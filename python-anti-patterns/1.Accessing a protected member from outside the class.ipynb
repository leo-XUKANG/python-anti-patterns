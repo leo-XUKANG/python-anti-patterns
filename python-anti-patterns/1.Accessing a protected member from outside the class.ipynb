{
 "cells": [
  {
   "cell_type": "code",
   "execution_count": 1,
   "metadata": {},
   "outputs": [
    {
     "name": "stdout",
     "output_type": "stream",
     "text": [
      "width:5\n"
     ]
    }
   ],
   "source": [
    "#Accessing a protected member (a member prefixed with _) of a class from outside that class usually calls for trouble, \n",
    "#since the creator of that class did not intend this member to be exposed.\n",
    "class Rectangle(object):\n",
    "    def __init__(self,width,height):\n",
    "        self._width = width\n",
    "        self._height = height\n",
    "\n",
    "r = Rectangle(5,6)\n",
    "print('width:{:d}'.format(r._width))"
   ]
  },
  {
   "cell_type": "code",
   "execution_count": null,
   "metadata": {
    "collapsed": true
   },
   "outputs": [],
   "source": [
    "\"\"\"\n",
    "Best practice\n",
    "If you are absolutely sure that you need to access the protected member from the outside, do the following:\n",
    "\n",
    "Make sure that accessing the member from outside the class does not cause any inadvertent side effects.\n",
    "Refactor it such that it becomes part of the public interface of the class.\n",
    "\"\"\""
   ]
  }
 ],
 "metadata": {
  "kernelspec": {
   "display_name": "Python 3",
   "language": "python",
   "name": "python3"
  },
  "language_info": {
   "codemirror_mode": {
    "name": "ipython",
    "version": 3
   },
   "file_extension": ".py",
   "mimetype": "text/x-python",
   "name": "python",
   "nbconvert_exporter": "python",
   "pygments_lexer": "ipython3",
   "version": "3.6.3"
  }
 },
 "nbformat": 4,
 "nbformat_minor": 2
}
