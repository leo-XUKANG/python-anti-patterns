{
 "cells": [
  {
   "cell_type": "code",
   "execution_count": null,
   "metadata": {
    "collapsed": true
   },
   "outputs": [],
   "source": [
    "\"\"\"\n",
    "The sole advantage that a lambda expression has over a def is that the lambda can be anonymously embedded within a larger expression. If you are going to assign a name to a lambda, you are better off just defining it as a def.\n",
    "\n",
    "From the PEP 8 Style Guide:\n",
    "\"\"\"\n",
    "#yes\n",
    "def f(x):return 2*x\n",
    "\n",
    "#no\n",
    "f = lambda x: 2*x\n",
    "\n",
    "\"\"\"\n",
    "The first form means that the name of the resulting function object is specifically ‘f’ instead of the generic ‘<lambda>’.\n",
    "This is more useful for tracebacks and string representations in general. The use of the assignment statement eliminates the sole benefit a lambda expression can offer over an explicit def statement \n",
    "(i.e. that it can be embedded inside a larger expression)\n",
    "\"\"\""
   ]
  },
  {
   "cell_type": "code",
   "execution_count": 1,
   "metadata": {},
   "outputs": [
    {
     "name": "stdout",
     "output_type": "stream",
     "text": [
      "4\n"
     ]
    }
   ],
   "source": [
    "\"\"\"\n",
    "the Anti-pattern\n",
    "The following code assigns a lambda function which returns the double of its input to a variable.\n",
    "This is functionally identical to creating a def.\n",
    "\"\"\"\n",
    "f = lambda x :2*x\n",
    "print(f(2))"
   ]
  },
  {
   "cell_type": "code",
   "execution_count": 2,
   "metadata": {},
   "outputs": [
    {
     "name": "stdout",
     "output_type": "stream",
     "text": [
      "4\n"
     ]
    }
   ],
   "source": [
    "\"\"\"\n",
    "Best practice\n",
    "Use a def for named expressions\n",
    "Refactor the lambda expression into a named def expression.\n",
    "\"\"\"\n",
    "def f(x) : return 2*x\n",
    "print(f(2))"
   ]
  },
  {
   "cell_type": "code",
   "execution_count": null,
   "metadata": {
    "collapsed": true
   },
   "outputs": [],
   "source": []
  }
 ],
 "metadata": {
  "kernelspec": {
   "display_name": "Python 3",
   "language": "python",
   "name": "python3"
  },
  "language_info": {
   "codemirror_mode": {
    "name": "ipython",
    "version": 3
   },
   "file_extension": ".py",
   "mimetype": "text/x-python",
   "name": "python",
   "nbconvert_exporter": "python",
   "pygments_lexer": "ipython3",
   "version": "3.6.3"
  }
 },
 "nbformat": 4,
 "nbformat_minor": 2
}
