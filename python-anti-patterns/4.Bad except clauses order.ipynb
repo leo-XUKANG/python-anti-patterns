{
 "cells": [
  {
   "cell_type": "code",
   "execution_count": null,
   "metadata": {
    "collapsed": true
   },
   "outputs": [],
   "source": [
    "\"\"\"\n",
    "Bad except clauses order\n",
    "When an exception occurs, Python will search for the first exception clause which matches the exception type that occurred. \n",
    "It doesn’t need to be an exact match. If the exception clause represents a base class of the raised exception, \n",
    "then Python considers that exception clause to be a match. E.g. if a ZeroDivisionError exception is raised and the first exception clause is Exception, \n",
    "then the Exception clause will execute because ZeroDivisionError is a sub class of Exception. Therefore, \n",
    "more specific exception clauses of sub classes should always be placed before the exception clauses of their base classes to ensure that exception handling is as specific and as helpful as possible.\n",
    "\"\"\""
   ]
  },
  {
   "cell_type": "code",
   "execution_count": 3,
   "metadata": {},
   "outputs": [
    {
     "name": "stdout",
     "output_type": "stream",
     "text": [
      "Exception\n"
     ]
    },
    {
     "data": {
      "text/plain": [
       "'\\n其实我不知道，Exception 这个 exception clause的适用范围到底是多大，如果这个值的适用范围是全部的 exception的话，\\n那么上面的描述或许是对的，但是就有些不严谨了，明明下面还有一个更匹配的ZeroDivisionError\\n'"
      ]
     },
     "execution_count": 3,
     "metadata": {},
     "output_type": "execute_result"
    }
   ],
   "source": [
    "\"\"\"\n",
    "Anti-pattern\n",
    "The code below performs a division operation that results in a ZeroDivisionError. \n",
    "The code contains an except clause for this type of error,\n",
    "which would be really useful because it pinpoints the exact cause of the problem. \n",
    "However, the ZeroDivisionError exception clause is unreachable because there is a Exception exception clause placed before it. \n",
    "When Python experiences an exception, \n",
    "it will linearly test each exception clause and execute the first clause that matches the raised exception.\n",
    "The match does not need to be identical. \n",
    "So long as the raised exception is a sub class of the exception listed in the exception clause, \n",
    "then Python will execute that clause and will skip all other clauses. \n",
    "This defeats the purpose of exception clauses, \n",
    "which is to identify and handle exceptions with as much precision as possible.\n",
    "\"\"\"\n",
    "try:\n",
    "    5 / 0\n",
    "except Exception as e:\n",
    "    print(\"Exception\")\n",
    "# unreachable code!\n",
    "except ZeroDivisionError as e:\n",
    "    print(\"ZeroDivisionError\")\n",
    "\n",
    "    \n",
    "\"\"\"\n",
    "其实我不知道，Exception 这个 exception clause的适用范围到底是多大，如果这个值的适用范围是全部的 exception的话，\n",
    "那么上面的描述或许是对的，但是就有些不严谨了，明明下面还有一个更匹配的ZeroDivisionError\n",
    "\"\"\""
   ]
  },
  {
   "cell_type": "code",
   "execution_count": 4,
   "metadata": {},
   "outputs": [
    {
     "name": "stdout",
     "output_type": "stream",
     "text": [
      "ZeroDivisionError\n"
     ]
    }
   ],
   "source": [
    "\"\"\"\n",
    "Best practice\n",
    "\n",
    "Move sub class exception clause before its ancestor’s clause\n",
    "The modified code below places the ZeroDivisionError exception clause in front of the Exception exception clause.\n",
    "Now when the exception is triggered the ZeroDivisionError exception clause will execute, \n",
    "which is much more optimal because it is more specific.\n",
    "\"\"\"\n",
    "try:\n",
    "    5 / 0\n",
    "except ZeroDivisionError as e:\n",
    "    print(\"ZeroDivisionError\")\n",
    "except Exception as e:\n",
    "    print(\"Exception\")"
   ]
  },
  {
   "cell_type": "code",
   "execution_count": null,
   "metadata": {
    "collapsed": true
   },
   "outputs": [],
   "source": []
  }
 ],
 "metadata": {
  "kernelspec": {
   "display_name": "Python 3",
   "language": "python",
   "name": "python3"
  },
  "language_info": {
   "codemirror_mode": {
    "name": "ipython",
    "version": 3
   },
   "file_extension": ".py",
   "mimetype": "text/x-python",
   "name": "python",
   "nbconvert_exporter": "python",
   "pygments_lexer": "ipython3",
   "version": "3.6.3"
  }
 },
 "nbformat": 4,
 "nbformat_minor": 2
}
